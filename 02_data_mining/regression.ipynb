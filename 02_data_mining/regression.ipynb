{
 "cells": [
  {
   "cell_type": "markdown",
   "metadata": {
    "collapsed": true
   },
   "source": [
    "# Simple Example"
   ]
  },
  {
   "cell_type": "markdown",
   "metadata": {},
   "source": [
    "## Setup"
   ]
  },
  {
   "cell_type": "markdown",
   "metadata": {},
   "source": [
    "### Run the Data Preprocessing notebook once to import the get_data method"
   ]
  },
  {
   "cell_type": "code",
   "execution_count": 1,
   "metadata": {},
   "outputs": [],
   "source": [
    "%run data_preprocessing.ipynb"
   ]
  },
  {
   "cell_type": "markdown",
   "metadata": {},
   "source": [
    "### Run the Data Evaluation notebook once to import the show_evaluation method"
   ]
  },
  {
   "cell_type": "code",
   "execution_count": 2,
   "metadata": {},
   "outputs": [],
   "source": [
    "%run data_evaluation.ipynb"
   ]
  },
  {
   "cell_type": "markdown",
   "metadata": {},
   "source": [
    "### Imports"
   ]
  },
  {
   "cell_type": "code",
   "execution_count": 3,
   "metadata": {},
   "outputs": [],
   "source": [
    "import numpy as np\n",
    "import pandas as pd\n",
    "\n",
    "from sklearn.dummy import DummyClassifier\n",
    "\n",
    "from sklearn import linear_model\n",
    "from sklearn.preprocessing import PolynomialFeatures\n",
    "from sklearn.feature_selection import f_regression, RFECV, RFE, SelectFwe\n",
    "\n",
    "from sklearn.pipeline import Pipeline"
   ]
  },
  {
   "cell_type": "markdown",
   "metadata": {},
   "source": [
    "### Hyperparmeters"
   ]
  },
  {
   "cell_type": "code",
   "execution_count": 4,
   "metadata": {},
   "outputs": [],
   "source": [
    "# for get_data\n",
    "enable_feature_engineering = True\n",
    "enable_outlier_handling = True\n",
    "normalize = 'minmax'\n",
    "use_one_hot_encoding = True\n",
    "split_size = (0.7, 0.0, 0.3)\n",
    "\n",
    "# for the DummyClassifier\n",
    "strategy = 'uniform'"
   ]
  },
  {
   "cell_type": "markdown",
   "metadata": {},
   "source": [
    "### Get the data"
   ]
  },
  {
   "cell_type": "code",
   "execution_count": 5,
   "metadata": {},
   "outputs": [
    {
     "name": "stdout",
     "output_type": "stream",
     "text": [
      "Dropped 24 duplicate rows.\n",
      "Dropped 86 rows -> height too low.\n",
      "Dropped 1 rows -> height too high.\n",
      "Dropped 2 rows -> weight too low.\n",
      "Dropped 0 rows -> weight too high.\n",
      "Dropped 186 rows -> systolic bp too low.\n",
      "Dropped 47 rows -> systolic bp too high.\n",
      "Dropped 40 rows -> diastolic bp too low.\n",
      "Dropped 948 rows -> diastolic bp too high.\n",
      "Dropped 103 rows -> sytolic bp was lower than diastolic.\n"
     ]
    }
   ],
   "source": [
    "y_train, x_train, y_val, x_val, y_test, x_test = get_data(enable_feature_engineering, enable_outlier_handling, normalize, use_one_hot_encoding, split_size)"
   ]
  },
  {
   "cell_type": "markdown",
   "metadata": {},
   "source": [
    "## Model"
   ]
  },
  {
   "cell_type": "markdown",
   "metadata": {},
   "source": [
    "### Create the model"
   ]
  },
  {
   "cell_type": "code",
   "execution_count": 6,
   "metadata": {},
   "outputs": [],
   "source": [
    "# Function to create pipeline\n",
    "def createPipeline(pol_degree=1, cvs=5, solver='sag', step=1, max_iter=100, x_train=None, y_train=None):\n",
    "\n",
    "    # create and fit a linear regression using statistical gradient descent as default\n",
    "    regr = linear_model.LogisticRegression(max_iter = 100, solver = solver)\n",
    "\n",
    "    # Defining degree of polynomial combination transformation\n",
    "    pol_degree = pol_degree\n",
    "\n",
    "    # Creating object to transform set of features to a set of all polynomial combinations of the features\n",
    "    transformer = PolynomialFeatures(degree=pol_degree, include_bias=False)\n",
    "\n",
    "    # Test whether a cross validation should be applied\n",
    "    if cvs > 1:\n",
    "        # creating an object to conduct cross fold recursive feature elimination\n",
    "        #  - sklearn.model_selection.StratifiedKFold is used per default\n",
    "        #  - removing 1 feature at a time\n",
    "        feature_selection = RFECV(regr, step=step, cv=cvs)\n",
    "    \n",
    "    # No cross validation (e.g. for greater feature set)\n",
    "    else:\n",
    "        \n",
    "        # Defining a Function to selec thow many features shoulb be selected. \n",
    "        def get_n_features_to_select(x_train, y_train, alpha= 0.05): \n",
    "            f, pval = f_regression(transformer.fit_transform(x_train), y_train)\n",
    "            n_features_to_select = len(pval[pval < alpha])\n",
    "            return n_features_to_select\n",
    "        \n",
    "        feature_selection = RFE(regr, n_features_to_select= get_n_features_to_select(x_train, y_train), step=1)\n",
    "        \n",
    "    pipeline = Pipeline([ ('transformer', transformer), ('feature_selection', feature_selection)])\n",
    "\n",
    "    return pipeline\n"
   ]
  },
  {
   "cell_type": "code",
   "execution_count": 7,
   "metadata": {},
   "outputs": [],
   "source": [
    "# Function to describe which features were selected and/or ommited\n",
    "def describeFeatureSelection(pipeline, X, print_only_ommited = True):\n",
    "    \n",
    "    # Selection of features - boolean list\n",
    "    selection = pipeline.named_steps['feature_selection'].get_support()\n",
    "    \n",
    "    # List of all columns of the transofrmed dataset\n",
    "    columns   = np.array(pipeline.named_steps['transformer'].get_feature_names(X.columns))\n",
    "    \n",
    "    if print_only_ommited == True:\n",
    "        print('List of selected features:')\n",
    "        for col in columns[selection]:\n",
    "            print(' - ', col)\n",
    "\n",
    "    print('\\nList of gropped features:')\n",
    "    for col in columns[selection == False]:\n",
    "        print(' - ', col)"
   ]
  },
  {
   "cell_type": "markdown",
   "metadata": {},
   "source": [
    "### Train the model"
   ]
  },
  {
   "cell_type": "code",
   "execution_count": 8,
   "metadata": {},
   "outputs": [
    {
     "name": "stdout",
     "output_type": "stream",
     "text": [
      "List of selected features:\n",
      " -  age\n",
      " -  ap_hi\n",
      " -  ap_lo\n",
      " -  smoke\n",
      " -  alco\n",
      " -  active\n",
      " -  bmi\n",
      " -  cholesterol_1\n",
      " -  cholesterol_3\n",
      " -  gluc_3\n",
      "\n",
      "List of gropped features:\n",
      " -  is_female\n",
      " -  cholesterol_2\n",
      " -  gluc_1\n",
      " -  gluc_2\n"
     ]
    }
   ],
   "source": [
    "# Instantiating the pipeline\n",
    "pipeline = createPipeline()\n",
    "\n",
    "# Fitting the regression model\n",
    "pipeline.fit(x_train, y_train)\n",
    "\n",
    "# Print the selected and ommited features\n",
    "describeFeatureSelection(pipeline, x_train, print_only_ommited = True)"
   ]
  },
  {
   "cell_type": "code",
   "execution_count": 9,
   "metadata": {},
   "outputs": [
    {
     "name": "stderr",
     "output_type": "stream",
     "text": [
      "/Users/robertbluemel/anaconda3/lib/python3.6/site-packages/sklearn/feature_selection/_univariate_selection.py:302: RuntimeWarning: invalid value encountered in true_divide\n",
      "  corr /= X_norms\n",
      "/Users/robertbluemel/anaconda3/lib/python3.6/site-packages/sklearn/linear_model/_sag.py:330: ConvergenceWarning: The max_iter was reached which means the coef_ did not converge\n",
      "  \"the coef_ did not converge\", ConvergenceWarning)\n",
      "/Users/robertbluemel/anaconda3/lib/python3.6/site-packages/sklearn/linear_model/_sag.py:330: ConvergenceWarning: The max_iter was reached which means the coef_ did not converge\n",
      "  \"the coef_ did not converge\", ConvergenceWarning)\n",
      "/Users/robertbluemel/anaconda3/lib/python3.6/site-packages/sklearn/linear_model/_sag.py:330: ConvergenceWarning: The max_iter was reached which means the coef_ did not converge\n",
      "  \"the coef_ did not converge\", ConvergenceWarning)\n",
      "/Users/robertbluemel/anaconda3/lib/python3.6/site-packages/sklearn/linear_model/_sag.py:330: ConvergenceWarning: The max_iter was reached which means the coef_ did not converge\n",
      "  \"the coef_ did not converge\", ConvergenceWarning)\n",
      "/Users/robertbluemel/anaconda3/lib/python3.6/site-packages/sklearn/linear_model/_sag.py:330: ConvergenceWarning: The max_iter was reached which means the coef_ did not converge\n",
      "  \"the coef_ did not converge\", ConvergenceWarning)\n",
      "/Users/robertbluemel/anaconda3/lib/python3.6/site-packages/sklearn/linear_model/_sag.py:330: ConvergenceWarning: The max_iter was reached which means the coef_ did not converge\n",
      "  \"the coef_ did not converge\", ConvergenceWarning)\n",
      "/Users/robertbluemel/anaconda3/lib/python3.6/site-packages/sklearn/linear_model/_sag.py:330: ConvergenceWarning: The max_iter was reached which means the coef_ did not converge\n",
      "  \"the coef_ did not converge\", ConvergenceWarning)\n",
      "/Users/robertbluemel/anaconda3/lib/python3.6/site-packages/sklearn/linear_model/_sag.py:330: ConvergenceWarning: The max_iter was reached which means the coef_ did not converge\n",
      "  \"the coef_ did not converge\", ConvergenceWarning)\n",
      "/Users/robertbluemel/anaconda3/lib/python3.6/site-packages/sklearn/linear_model/_sag.py:330: ConvergenceWarning: The max_iter was reached which means the coef_ did not converge\n",
      "  \"the coef_ did not converge\", ConvergenceWarning)\n"
     ]
    },
    {
     "name": "stdout",
     "output_type": "stream",
     "text": [
      "\n",
      "List of gropped features:\n",
      " -  age alco\n",
      " -  smoke alco\n",
      " -  smoke is_female\n",
      " -  smoke cholesterol_3\n",
      " -  alco active\n",
      " -  alco cholesterol_1\n",
      " -  active gluc_2\n",
      " -  is_female gluc_3\n",
      " -  cholesterol_1 cholesterol_2\n",
      " -  cholesterol_1 cholesterol_3\n",
      " -  cholesterol_2 cholesterol_3\n",
      " -  cholesterol_2 gluc_2\n",
      " -  cholesterol_2 gluc_3\n",
      " -  gluc_1 gluc_2\n",
      " -  gluc_1 gluc_3\n",
      " -  gluc_2 gluc_3\n"
     ]
    }
   ],
   "source": [
    "# Instantiating the pipeline\n",
    "pipeline_pol = createPipeline(pol_degree=2, cvs=1,  max_iter=10000, x_train=x_train, y_train=y_train)\n",
    "\n",
    "# Fitting the regression model\n",
    "pipeline_pol.fit(x_train, y_train)\n",
    "\n",
    "# Printing the selected and ommited features\n",
    "describeFeatureSelection(pipeline_pol, x_train, print_only_ommited = False)\n",
    "\n",
    "\n",
    "## First error due to dummy variable trap -> resulting in f-value und p-value == nan given pol_degree > 1\n",
    "## -> Resolved by dropping, as shown in the list of dropped features\n",
    "## Not converging error due to too little max iteration"
   ]
  },
  {
   "cell_type": "markdown",
   "metadata": {},
   "source": [
    "## Evaluation"
   ]
  },
  {
   "cell_type": "markdown",
   "metadata": {},
   "source": [
    "### Predict the test set"
   ]
  },
  {
   "cell_type": "code",
   "execution_count": 10,
   "metadata": {
    "scrolled": false
   },
   "outputs": [],
   "source": [
    "# Function to predict classification & the respective probabilities\n",
    "def predict(pipeline):\n",
    "    y_pred = pipeline.predict(x_test)\n",
    "    y_prob = pipeline.predict_proba(x_test)[:,1]   # Returning only the probability for class True/1\n",
    "    return y_pred, y_prob"
   ]
  },
  {
   "cell_type": "code",
   "execution_count": 11,
   "metadata": {},
   "outputs": [],
   "source": [
    "# Predict for both pipelines\n",
    "y_pred,     y_prob     = predict(pipeline)\n",
    "y_pred_pol, y_prob_pol = predict(pipeline_pol)"
   ]
  },
  {
   "cell_type": "markdown",
   "metadata": {},
   "source": [
    "### Apply the evaluation metrics"
   ]
  },
  {
   "cell_type": "code",
   "execution_count": 12,
   "metadata": {},
   "outputs": [
    {
     "name": "stdout",
     "output_type": "stream",
     "text": [
      "Logistic regression:\n",
      "Precision Score:\n",
      "0.7559510567296996\n",
      "\n",
      "Recall Score:\n",
      "0.6726714837177076\n",
      "\n",
      "F1-Score:\n",
      "0.7118839365212382\n",
      "\n",
      "Confusion Matrix:\n",
      "\n",
      "        Healthy Sick\n",
      "Healthy      TN   FP\n",
      "Sick         FN   TP\n",
      "\n",
      "         Healthy  Sick\n",
      "Healthy     8272  2194\n",
      "Sick        3307  6796\n",
      "\n"
     ]
    },
    {
     "data": {
      "image/png": "[encoded data removed]",
      "text/plain": [
       "<Figure size 432x288 with 1 Axes>"
      ]
     },
     "metadata": {
      "needs_background": "light"
     },
     "output_type": "display_data"
    },
    {
     "name": "stdout",
     "output_type": "stream",
     "text": [
      "\n",
      "ROC Score:\n",
      "0.7941513939009891\n",
      "\n",
      "---------------\n",
      "\n",
      "Logistic regression with polynomial features\n",
      "Precision Score:\n",
      "0.7464759099516095\n",
      "\n",
      "Recall Score:\n",
      "0.7023656339701079\n",
      "\n",
      "F1-Score:\n",
      "0.7237492987913714\n",
      "\n",
      "Confusion Matrix:\n",
      "\n",
      "        Healthy Sick\n",
      "Healthy      TN   FP\n",
      "Sick         FN   TP\n",
      "\n",
      "         Healthy  Sick\n",
      "Healthy     8056  2410\n",
      "Sick        3007  7096\n",
      "\n"
     ]
    },
    {
     "data": {
      "image/png": "[encoded data removed]",
      "text/plain": [
       "<Figure size 432x288 with 1 Axes>"
      ]
     },
     "metadata": {
      "needs_background": "light"
     },
     "output_type": "display_data"
    },
    {
     "name": "stdout",
     "output_type": "stream",
     "text": [
      "\n",
      "ROC Score:\n",
      "0.7991754345490824\n"
     ]
    }
   ],
   "source": [
    "print('Logistic regression:')\n",
    "show_evaluation(y_test, y_pred, y_prob)\n",
    "print('\\n---------------\\n')\n",
    "print('Logistic regression with polynomial features')\n",
    "show_evaluation(y_test, y_pred_pol, y_prob_pol)"
   ]
  },
  {
   "cell_type": "code",
   "execution_count": null,
   "metadata": {},
   "outputs": [],
   "source": []
  },
  {
   "cell_type": "code",
   "execution_count": null,
   "metadata": {},
   "outputs": [],
   "source": []
  }
 ],
 "metadata": {
  "kernelspec": {
   "display_name": "Python 3",
   "language": "python",
   "name": "python3"
  },
  "language_info": {
   "codemirror_mode": {
    "name": "ipython",
    "version": 3
   },
   "file_extension": ".py",
   "mimetype": "text/x-python",
   "name": "python",
   "nbconvert_exporter": "python",
   "pygments_lexer": "ipython3",
   "version": "3.6.10"
  }
 },
 "nbformat": 4,
 "nbformat_minor": 2
}
