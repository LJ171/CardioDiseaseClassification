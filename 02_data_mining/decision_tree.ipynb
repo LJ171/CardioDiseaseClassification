{
 "cells": [
  {
   "cell_type": "markdown",
   "metadata": {},
   "source": [
    "# Decision Tree"
   ]
  },
  {
   "cell_type": "markdown",
   "metadata": {},
   "source": [
    "## Setup"
   ]
  },
  {
   "cell_type": "markdown",
   "metadata": {},
   "source": [
    "### Run the Data Preprocessing notebook once to import the get_data method"
   ]
  },
  {
   "cell_type": "code",
   "execution_count": 1,
   "metadata": {},
   "outputs": [],
   "source": [
    "%run data_preprocessing.ipynb"
   ]
  },
  {
   "cell_type": "markdown",
   "metadata": {},
   "source": [
    "### Run the Data Evaluation notebook once to import the show_evaluation method"
   ]
  },
  {
   "cell_type": "code",
   "execution_count": 2,
   "metadata": {},
   "outputs": [],
   "source": [
    "%run data_evaluation.ipynb"
   ]
  },
  {
   "cell_type": "markdown",
   "metadata": {},
   "source": [
    "### Imports"
   ]
  },
  {
   "cell_type": "code",
   "execution_count": 3,
   "metadata": {},
   "outputs": [],
   "source": [
    "import numpy as np\n",
    "import pandas as pd\n",
    "from sklearn.metrics import accuracy_score\n",
    "import matplotlib.pyplot as plt\n",
    "from sklearn.tree import DecisionTreeClassifier\n",
    "from sklearn import tree\n",
    "from sklearn.model_selection import KFold\n",
    "from sklearn import decomposition, datasets\n",
    "from sklearn.pipeline import Pipeline\n",
    "from sklearn.model_selection import GridSearchCV\n",
    "from sklearn.preprocessing import StandardScaler\n"
   ]
  },
  {
   "cell_type": "markdown",
   "metadata": {},
   "source": [
    "### Hyperparmeters"
   ]
  },
  {
   "cell_type": "code",
   "execution_count": 4,
   "metadata": {},
   "outputs": [],
   "source": [
    "# for get_data\n",
    "enable_feature_engineering = True\n",
    "enable_outlier_handling = True\n",
    "normalize = 'minmax'\n",
    "use_one_hot_encoding = True\n",
    "split_size = (0.9, 0.0, 0.1)"
   ]
  },
  {
   "cell_type": "markdown",
   "metadata": {},
   "source": [
    "### Get the data"
   ]
  },
  {
   "cell_type": "code",
   "execution_count": 5,
   "metadata": {},
   "outputs": [
    {
     "name": "stdout",
     "output_type": "stream",
     "text": [
      "Dropped 24 duplicate rows.\n",
      "Dropped 86 rows -> height too low.\n",
      "Dropped 1 rows -> height too high.\n",
      "Dropped 2 rows -> weight too low.\n",
      "Dropped 0 rows -> weight too high.\n",
      "Dropped 186 rows -> systolic bp too low.\n",
      "Dropped 47 rows -> systolic bp too high.\n",
      "Dropped 40 rows -> diastolic bp too low.\n",
      "Dropped 948 rows -> diastolic bp too high.\n",
      "Dropped 103 rows -> sytolic bp was lower than diastolic.\n"
     ]
    }
   ],
   "source": [
    "\n",
    "y_train, x_train, y_val, x_val, y_test, x_test = get_data(enable_feature_engineering, enable_outlier_handling, normalize, use_one_hot_encoding, split_size)"
   ]
  },
  {
   "cell_type": "markdown",
   "metadata": {},
   "source": [
    "## Model"
   ]
  },
  {
   "cell_type": "markdown",
   "metadata": {},
   "source": [
    "### Create and train the model"
   ]
  },
  {
   "cell_type": "code",
   "execution_count": 6,
   "metadata": {},
   "outputs": [
    {
     "name": "stdout",
     "output_type": "stream",
     "text": [
      "DecisionTreeClassifier()\n"
     ]
    }
   ],
   "source": [
    "dt = DecisionTreeClassifier()\n",
    "dt.fit(x_train, y_train)\n",
    "print(dt)"
   ]
  },
  {
   "cell_type": "markdown",
   "metadata": {},
   "source": [
    "## Evaluation"
   ]
  },
  {
   "cell_type": "markdown",
   "metadata": {},
   "source": [
    "### Predict the test set"
   ]
  },
  {
   "cell_type": "code",
   "execution_count": 7,
   "metadata": {
    "scrolled": true
   },
   "outputs": [],
   "source": [
    "y_prob = dt.predict(x_test)\n",
    "y_pred = np.round(y_prob)"
   ]
  },
  {
   "cell_type": "code",
   "execution_count": 8,
   "metadata": {},
   "outputs": [
    {
     "name": "stdout",
     "output_type": "stream",
     "text": [
      "Accuracy: 64.75%\n"
     ]
    }
   ],
   "source": [
    "\n",
    "accuracy = accuracy_score(y_test, y_pred)\n",
    "print(\"Accuracy: %.2f%%\" % (accuracy * 100.0))"
   ]
  },
  {
   "cell_type": "markdown",
   "metadata": {},
   "source": [
    "### Apply the evaluation metrics"
   ]
  },
  {
   "cell_type": "code",
   "execution_count": 9,
   "metadata": {},
   "outputs": [
    {
     "name": "stdout",
     "output_type": "stream",
     "text": [
      "Precision Score:\n",
      "0.6385542168674698\n",
      "\n",
      "Recall Score:\n",
      "0.6467261904761905\n",
      "\n",
      "F1-Score:\n",
      "0.6426142244566021\n",
      "\n",
      "Confusion Matrix:\n",
      "\n",
      "        Healthy Sick\n",
      "Healthy      TN   FP\n",
      "Sick         FN   TP\n",
      "\n",
      "         Healthy  Sick\n",
      "Healthy     2267  1230\n",
      "Sick        1187  2173\n",
      "\n"
     ]
    },
    {
     "data": {
      "image/png": "[encoded data removed]",
      "text/plain": [
       "<Figure size 432x288 with 1 Axes>"
      ]
     },
     "metadata": {
      "needs_background": "light"
     },
     "output_type": "display_data"
    },
    {
     "name": "stdout",
     "output_type": "stream",
     "text": [
      "\n",
      "ROC Score:\n",
      "0.6474980680719529\n"
     ]
    }
   ],
   "source": [
    "show_evaluation(y_test, y_pred, y_prob)"
   ]
  },
  {
   "cell_type": "code",
   "execution_count": 11,
   "metadata": {},
   "outputs": [
    {
     "data": {
      "text/plain": [
       "GridSearchCV(estimator=Pipeline(steps=[('std_slc', StandardScaler()),\n",
       "                                       ('pca', PCA()),\n",
       "                                       ('dt', DecisionTreeClassifier())]),\n",
       "             param_grid={'dt__criterion': ['gini', 'entropy'],\n",
       "                         'dt__max_depth': [2, 4, 6, 8, 10, 12],\n",
       "                         'pca__n_components': [1, 2, 3, 4, 5, 6, 7, 8, 9, 10,\n",
       "                                               11, 12, 13, 14]})"
      ]
     },
     "execution_count": 11,
     "metadata": {},
     "output_type": "execute_result"
    }
   ],
   "source": [
    " # Creating an standardscaler object\n",
    "std_slc = StandardScaler()\n",
    "\n",
    "    # Creating a pca object\n",
    "pca = decomposition.PCA()\n",
    "\n",
    "\n",
    "    # Creating a pipeline of three steps. First, standardizing the data.\n",
    "    # Second, tranforming the data with PCA.\n",
    "    # Third, training a Decision Tree Classifier on the data.\n",
    "pipe = Pipeline(steps=[('std_slc', std_slc),\n",
    "                        ('pca', pca),\n",
    "                        ('dt', dt)])\n",
    "\n",
    "    # Creating Parameter Space\n",
    "    # Creating a list of a sequence of integers from 1 to 30 (the number of features in X + 1)\n",
    "n_components = list(range(1,x_train.shape[1]+1,1))\n",
    "\n",
    "    # Creating lists of parameter for Decision Tree Classifier\n",
    "criterion = ['gini', 'entropy']\n",
    "max_depth = [2,4,6,8,10,12]\n",
    "\n",
    "    # Creating a dictionary of all the parameter options \n",
    "    # Note that we can access the parameters of steps of a pipeline by using '__’\n",
    "parameters = dict(pca__n_components=n_components,\n",
    "                    dt__criterion=criterion,\n",
    "                    dt__max_depth=max_depth)\n",
    "\n",
    "    # Conducting Parameter Optmization With Pipeline\n",
    "    # Creating a grid search object\n",
    "clf_GS = GridSearchCV(pipe, parameters)\n",
    "\n",
    "    # Fitting the grid search\n",
    "clf_GS.fit(x_train, y_train)\n",
    "\n",
    "    # Viewing The Best Parameters\n",
    "#print('Best Criterion:', clf_GS.best_estimator_.get_params()['dt__criterion'])\n",
    "#print('Best max_depth:', clf_GS.best_estimator_.get_params()['dt__max_depth'])\n",
    "#print('Best Number Of Components:', clf_GS.best_estimator_.get_params()['pca__n_components'])\n",
    "#print(); print(clf_GS.best_estimator_.get_params()['dt'])\n",
    "\n",
    "   \n"
   ]
  },
  {
   "cell_type": "code",
   "execution_count": 13,
   "metadata": {},
   "outputs": [
    {
     "name": "stdout",
     "output_type": "stream",
     "text": [
      "Best Criterion: gini\n",
      "Best max_depth: 8\n",
      "Best Number Of Components: 13\n",
      "\n",
      "DecisionTreeClassifier(max_depth=8)\n"
     ]
    }
   ],
   "source": [
    "print('Best Criterion:', clf_GS.best_estimator_.get_params()['dt__criterion'])\n",
    "print('Best max_depth:', clf_GS.best_estimator_.get_params()['dt__max_depth'])\n",
    "print('Best Number Of Components:', clf_GS.best_estimator_.get_params()['pca__n_components'])\n",
    "print(); print(clf_GS.best_estimator_.get_params()['dt'])\n",
    "\n",
    "y_prob1 = clf_GS.predict(x_test.astype('float32'))\n",
    "y_pred1 = np.round(y_prob1)"
   ]
  },
  {
   "cell_type": "code",
   "execution_count": 16,
   "metadata": {},
   "outputs": [
    {
     "name": "stdout",
     "output_type": "stream",
     "text": [
      "Accuracy: 72.80%\n"
     ]
    }
   ],
   "source": [
    "accuracy = accuracy_score(y_test, y_pred1)\n",
    "print(\"Accuracy: %.2f%%\" % (accuracy * 100.0))"
   ]
  },
  {
   "cell_type": "code",
   "execution_count": 14,
   "metadata": {},
   "outputs": [
    {
     "name": "stdout",
     "output_type": "stream",
     "text": [
      "Precision Score:\n",
      "0.7620882971268396\n",
      "\n",
      "Recall Score:\n",
      "0.6473214285714286\n",
      "\n",
      "F1-Score:\n",
      "0.7000321853878338\n",
      "\n",
      "Confusion Matrix:\n",
      "\n",
      "        Healthy Sick\n",
      "Healthy      TN   FP\n",
      "Sick         FN   TP\n",
      "\n",
      "         Healthy  Sick\n",
      "Healthy     2818   679\n",
      "Sick        1185  2175\n",
      "\n"
     ]
    },
    {
     "data": {
      "image/png": "[encoded data removed]",
      "text/plain": [
       "<Figure size 432x288 with 1 Axes>"
      ]
     },
     "metadata": {
      "needs_background": "light"
     },
     "output_type": "display_data"
    },
    {
     "name": "stdout",
     "output_type": "stream",
     "text": [
      "\n",
      "ROC Score:\n",
      "0.7265775001021284\n"
     ]
    }
   ],
   "source": [
    "show_evaluation(y_test, y_pred1, y_prob1)"
   ]
  },
  {
   "cell_type": "code",
   "execution_count": null,
   "metadata": {},
   "outputs": [],
   "source": []
  }
 ],
 "metadata": {
  "kernelspec": {
   "display_name": "Python 3",
   "language": "python",
   "name": "python3"
  },
  "language_info": {
   "codemirror_mode": {
    "name": "ipython",
    "version": 3
   },
   "file_extension": ".py",
   "mimetype": "text/x-python",
   "name": "python",
   "nbconvert_exporter": "python",
   "pygments_lexer": "ipython3",
   "version": "3.6.12"
  }
 },
 "nbformat": 4,
 "nbformat_minor": 2
}
