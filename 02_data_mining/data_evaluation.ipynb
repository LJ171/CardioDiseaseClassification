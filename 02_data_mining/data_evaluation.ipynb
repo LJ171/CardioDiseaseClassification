{
 "cells": [
  {
   "cell_type": "markdown",
   "metadata": {},
   "source": [
    "# Data Evaluation"
   ]
  },
  {
   "cell_type": "code",
   "execution_count": 1,
   "metadata": {
    "collapsed": true
   },
   "outputs": [],
   "source": [
    "import numpy as np\n",
    "import pandas as pd\n",
    "import matplotlib.pyplot as plt\n",
    "from sklearn.metrics import confusion_matrix, precision_score, recall_score, f1_score, roc_curve, auc, roc_auc_score"
   ]
  },
  {
   "cell_type": "code",
   "execution_count": 2,
   "metadata": {
    "collapsed": true
   },
   "outputs": [],
   "source": [
    "'''\n",
    "This methods output the evalutation of your model, based on y_real and y_pred\n",
    "\n",
    "Parameters:\n",
    "y_true  (1d array): Ground truth (correct) target values\n",
    "y_pred  (1d array): Estimated targets as returned by a classifier\n",
    "y_score (1d array): Target scores, can either be probability estimates of the positive class, confidence values, \n",
    "                    or non-thresholded measure of decisions\n",
    "\n",
    "Returns:\n",
    "'''\n",
    "def show_evaluation(y_true, y_pred, y_score=None):\n",
    "    # compute and print Precision Score\n",
    "    calc_precision_score = precision_score(y_true, y_pred)\n",
    "    print('Precision Score:')\n",
    "    print(calc_precision_score)\n",
    "    print()\n",
    "    \n",
    "    # compute and print Recall Score\n",
    "    calc_recall_score = recall_score(y_true, y_pred)\n",
    "    print('Recall Score:')\n",
    "    print(calc_recall_score)\n",
    "    print()\n",
    "    \n",
    "    # compute and print F1-Score\n",
    "    calc_f1_score = f1_score(y_true, y_pred)\n",
    "    print('F1-Score:')\n",
    "    print(calc_f1_score)\n",
    "    print()\n",
    "    \n",
    "    # compute and display the confusion matrix\n",
    "    print('Confusion Matrix:')\n",
    "    print()\n",
    "    \n",
    "    ## print example matrix\n",
    "    example_confusion_matrix = pd.DataFrame([['TN', 'FP'], ['FN', 'TP']], index=['Healthy', 'Sick'], columns=['Healthy', 'Sick'])\n",
    "    print(example_confusion_matrix)\n",
    "    print()\n",
    "    \n",
    "    ## compute and print the confusion matrix\n",
    "    calc_confusion_matrix = confusion_matrix(y_true, y_pred)\n",
    "    calc_confusion_matrix_df = pd.DataFrame(calc_confusion_matrix, index=['Healthy', 'Sick'], columns=['Healthy', 'Sick'])\n",
    "    print(calc_confusion_matrix_df)\n",
    "    print()\n",
    "        \n",
    "    if y_score is not None:       \n",
    "        # Compute micro-average ROC curve and ROC area\n",
    "        fpr, tpr, _ = roc_curve(y_test, y_score)\n",
    "        roc_auc = auc(fpr, tpr)\n",
    "\n",
    "        plt.figure()\n",
    "        lw = 2\n",
    "        plt.plot(fpr, tpr, color='darkorange', label='ROC curve (area = %0.2f)' % roc_auc)\n",
    "        plt.plot([0, 1], [0, 1], color='navy', linestyle='--')\n",
    "        plt.xlim([0.0, 1.0])\n",
    "        plt.ylim([0.0, 1.05])\n",
    "        plt.xlabel('False Positive Rate')\n",
    "        plt.ylabel('True Positive Rate')\n",
    "        plt.title('Receiver operating characteristic example')\n",
    "        plt.legend(loc='lower right')\n",
    "        plt.show()\n",
    "        print()\n",
    "        \n",
    "        # compute and print roc_score\n",
    "        roc_score  = roc_auc_score(y_true, y_score)\n",
    "        print('ROC Score:')\n",
    "        print(roc_score)"
   ]
  },
  {
   "cell_type": "code",
   "execution_count": null,
   "metadata": {
    "collapsed": true
   },
   "outputs": [],
   "source": []
  }
 ],
 "metadata": {
  "kernelspec": {
   "display_name": "Python 3",
   "language": "python",
   "name": "python3"
  },
  "language_info": {
   "codemirror_mode": {
    "name": "ipython",
    "version": 3
   },
   "file_extension": ".py",
   "mimetype": "text/x-python",
   "name": "python",
   "nbconvert_exporter": "python",
   "pygments_lexer": "ipython3",
   "version": "3.7.3"
  }
 },
 "nbformat": 4,
 "nbformat_minor": 2
}
