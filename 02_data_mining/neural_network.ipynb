{
 "cells": [
  {
   "cell_type": "markdown",
   "metadata": {},
   "source": [
    "# Neural Network"
   ]
  },
  {
   "cell_type": "markdown",
   "metadata": {},
   "source": [
    "## Setup"
   ]
  },
  {
   "cell_type": "markdown",
   "metadata": {},
   "source": [
    "### Run the Data Preprocessing notebook once to import the get_data method"
   ]
  },
  {
   "cell_type": "code",
   "execution_count": 111,
   "metadata": {},
   "outputs": [],
   "source": [
    "%run data_preprocessing.ipynb"
   ]
  },
  {
   "cell_type": "markdown",
   "metadata": {},
   "source": [
    "### Run the Data Evaluation notebook once to import the show_evaluation method"
   ]
  },
  {
   "cell_type": "code",
   "execution_count": 112,
   "metadata": {},
   "outputs": [],
   "source": [
    "%run data_evaluation.ipynb"
   ]
  },
  {
   "cell_type": "markdown",
   "metadata": {},
   "source": [
    "### Imports"
   ]
  },
  {
   "cell_type": "code",
   "execution_count": 113,
   "metadata": {},
   "outputs": [],
   "source": [
    "import numpy as np\n",
    "import pandas as pd\n",
    "\n",
    "from keras import regularizers\n",
    "from keras.models import Sequential\n",
    "from keras.layers import BatchNormalization, Dense, Dropout    \n",
    "from keras.callbacks import EarlyStopping"
   ]
  },
  {
   "cell_type": "markdown",
   "metadata": {},
   "source": [
    "### Hyperparmeters"
   ]
  },
  {
   "cell_type": "code",
   "execution_count": 114,
   "metadata": {},
   "outputs": [],
   "source": [
    "# for get_data function\n",
    "enable_feature_engineering_gender = True\n",
    "enable_feature_engineering_height_weight = True \n",
    "enable_feature_engineering_gluc_chol = False\n",
    "enable_feature_engineering_alco_smoking = False\n",
    "enable_outlier_handling = True\n",
    "normalize = 'minmax'\n",
    "use_one_hot_encoding = True\n",
    "split_size = (0.8, 0.05, 0.15)"
   ]
  },
  {
   "cell_type": "markdown",
   "metadata": {},
   "source": [
    "### Get the data"
   ]
  },
  {
   "cell_type": "code",
   "execution_count": 115,
   "metadata": {
    "scrolled": true
   },
   "outputs": [
    {
     "name": "stdout",
     "output_type": "stream",
     "text": [
      "Dropped 24 duplicate rows.\n",
      "Dropped 2588 rows -> height too low.\n",
      "Dropped 1 rows -> height too high.\n",
      "Dropped 13 rows -> weight too low.\n",
      "Dropped 0 rows -> weight too high.\n",
      "Dropped 183 rows -> systolic bp too low.\n",
      "Dropped 46 rows -> systolic bp too high.\n",
      "Dropped 38 rows -> diastolic bp too low.\n",
      "Dropped 904 rows -> diastolic bp too high.\n",
      "Dropped 98 rows -> sytolic bp was lower than diastolic.\n"
     ]
    }
   ],
   "source": [
    "y_train, x_train, y_val, x_val, y_test, x_test = get_data(enable_feature_engineering_gender, enable_feature_engineering_height_weight, enable_feature_engineering_gluc_chol, enable_feature_engineering_alco_smoking, enable_outlier_handling, normalize, use_one_hot_encoding, split_size)"
   ]
  },
  {
   "cell_type": "markdown",
   "metadata": {},
   "source": [
    "## Model"
   ]
  },
  {
   "cell_type": "markdown",
   "metadata": {},
   "source": [
    "### Create the model"
   ]
  },
  {
   "cell_type": "code",
   "execution_count": 116,
   "metadata": {},
   "outputs": [],
   "source": [
    "classifier = Sequential()\n",
    "\n",
    "classifier.add(Dense(x_train.shape[1], activation='tanh', input_shape=(x_train.shape[1],)))\n",
    "classifier.add(Dense(64, activation='relu'))\n",
    "classifier.add(Dropout(0.0125))\n",
    "classifier.add(Dense(128, activation='relu'))\n",
    "classifier.add(Dropout(0.0125))\n",
    "classifier.add(Dense(256, activation='relu'))\n",
    "classifier.add(Dropout(0.0125))\n",
    "classifier.add(Dense(512, activation='relu'))\n",
    "classifier.add(Dropout(0.0125))\n",
    "classifier.add(Dense(512, activation='relu'))<\n",
    "classifier.add(Dropout(0.0125))\n",
    "classifier.add(Dense(256, activation='relu'))\n",
    "classifier.add(Dropout(0.0125))\n",
    "classifier.add(Dense(128, activation='relu'))\n",
    "classifier.add(Dropout(0.0125))\n",
    "classifier.add(Dense(64, activation='relu'))\n",
    "classifier.add(Dropout(0.0125))\n",
    "classifier.add(Dense(1, activation='sigmoid'))\n",
    "\n",
    "classifier.compile(loss='binary_crossentropy', optimizer='adam', metrics=['accuracy'])"
   ]
  },
  {
   "cell_type": "markdown",
   "metadata": {},
   "source": [
    "### Train the model"
   ]
  },
  {
   "cell_type": "code",
   "execution_count": 117,
   "metadata": {},
   "outputs": [],
   "source": [
    "def plot_hist(h, xsize=6, ysize=10):\n",
    "    # Prepare plotting\n",
    "    fig_size = plt.rcParams[\"figure.figsize\"]\n",
    "    plt.rcParams[\"figure.figsize\"] = [xsize, ysize]\n",
    "    fig, axes = plt.subplots(nrows=4, ncols=4, sharex=True)\n",
    "    \n",
    "    # summarize history for MAE\n",
    "    plt.subplot(211)\n",
    "    plt.plot(h['accuracy'])\n",
    "    plt.plot(h['val_accuracy'])\n",
    "    plt.title('Training vs Validation Accuracy')\n",
    "    plt.ylabel('Accuracy')\n",
    "    plt.xlabel('Epoch')\n",
    "    plt.legend(['Train', 'Validation'], loc='upper left')\n",
    "    \n",
    "    # summarize history for loss\n",
    "    plt.subplot(212)\n",
    "    plt.plot(h['loss'])\n",
    "    plt.plot(h['val_loss'])\n",
    "    plt.title('Training vs Validation Loss')\n",
    "    plt.ylabel('Loss')\n",
    "    plt.xlabel('Epoch')\n",
    "    plt.legend(['Train', 'Validation'], loc='upper left')\n",
    "    \n",
    "    # Plot it all in IPython (non-interactive)\n",
    "    plt.draw()\n",
    "    plt.show()"
   ]
  },
  {
   "cell_type": "code",
   "execution_count": 118,
   "metadata": {
    "scrolled": false
   },
   "outputs": [
    {
     "name": "stdout",
     "output_type": "stream",
     "text": [
      "Epoch 1/10\n",
      "744/744 [==============================] - 5s 7ms/step - loss: 0.5885 - accuracy: 0.6929 - val_loss: 0.5632 - val_accuracy: 0.7124\n",
      "Epoch 2/10\n",
      "744/744 [==============================] - 5s 6ms/step - loss: 0.5646 - accuracy: 0.7195 - val_loss: 0.5561 - val_accuracy: 0.7274\n",
      "Epoch 3/10\n",
      "744/744 [==============================] - 5s 6ms/step - loss: 0.5593 - accuracy: 0.7225 - val_loss: 0.5567 - val_accuracy: 0.7292\n",
      "Epoch 4/10\n",
      "744/744 [==============================] - 5s 6ms/step - loss: 0.5563 - accuracy: 0.7247 - val_loss: 0.5526 - val_accuracy: 0.7262\n",
      "Epoch 5/10\n",
      "744/744 [==============================] - 5s 6ms/step - loss: 0.5560 - accuracy: 0.7252 - val_loss: 0.5474 - val_accuracy: 0.7327\n",
      "Epoch 6/10\n",
      "744/744 [==============================] - 5s 6ms/step - loss: 0.5531 - accuracy: 0.7263 - val_loss: 0.5473 - val_accuracy: 0.7315\n",
      "Epoch 7/10\n",
      "744/744 [==============================] - 5s 6ms/step - loss: 0.5527 - accuracy: 0.7257 - val_loss: 0.5504 - val_accuracy: 0.7338\n",
      "Epoch 8/10\n",
      "744/744 [==============================] - 5s 6ms/step - loss: 0.5514 - accuracy: 0.7290 - val_loss: 0.5502 - val_accuracy: 0.7277\n",
      "Epoch 9/10\n",
      "744/744 [==============================] - 5s 6ms/step - loss: 0.5508 - accuracy: 0.7272 - val_loss: 0.5460 - val_accuracy: 0.7327\n",
      "Epoch 10/10\n",
      "744/744 [==============================] - 5s 7ms/step - loss: 0.5507 - accuracy: 0.7282 - val_loss: 0.5476 - val_accuracy: 0.7274\n",
      "Epoch 1/10\n",
      "744/744 [==============================] - 5s 7ms/step - loss: 0.5493 - accuracy: 0.7295 - val_loss: 0.5500 - val_accuracy: 0.7228\n",
      "Epoch 2/10\n",
      "744/744 [==============================] - 5s 6ms/step - loss: 0.5487 - accuracy: 0.7293 - val_loss: 0.5510 - val_accuracy: 0.7266\n",
      "Epoch 3/10\n",
      "744/744 [==============================] - 5s 6ms/step - loss: 0.5487 - accuracy: 0.7284 - val_loss: 0.5518 - val_accuracy: 0.7251\n",
      "Epoch 4/10\n",
      "744/744 [==============================] - 5s 6ms/step - loss: 0.5481 - accuracy: 0.7313 - val_loss: 0.5477 - val_accuracy: 0.7279\n",
      "Epoch 5/10\n",
      "744/744 [==============================] - 5s 6ms/step - loss: 0.5479 - accuracy: 0.7313 - val_loss: 0.5475 - val_accuracy: 0.7236\n",
      "Epoch 6/10\n",
      "744/744 [==============================] - 5s 6ms/step - loss: 0.5471 - accuracy: 0.7322 - val_loss: 0.5460 - val_accuracy: 0.7219\n",
      "Epoch 7/10\n",
      "744/744 [==============================] - 5s 6ms/step - loss: 0.5477 - accuracy: 0.7302 - val_loss: 0.5506 - val_accuracy: 0.7274\n",
      "Epoch 8/10\n",
      "744/744 [==============================] - 5s 6ms/step - loss: 0.5465 - accuracy: 0.7321 - val_loss: 0.5522 - val_accuracy: 0.7228\n",
      "Epoch 9/10\n",
      "744/744 [==============================] - 5s 6ms/step - loss: 0.5464 - accuracy: 0.7326 - val_loss: 0.5469 - val_accuracy: 0.7279\n",
      "Epoch 10/10\n",
      "744/744 [==============================] - 5s 6ms/step - loss: 0.5464 - accuracy: 0.7323 - val_loss: 0.5467 - val_accuracy: 0.7283\n",
      "Epoch 1/10\n",
      "744/744 [==============================] - 5s 6ms/step - loss: 0.5448 - accuracy: 0.7311 - val_loss: 0.5487 - val_accuracy: 0.7285\n",
      "Epoch 2/10\n",
      "744/744 [==============================] - 5s 6ms/step - loss: 0.5452 - accuracy: 0.7319 - val_loss: 0.5519 - val_accuracy: 0.7226\n",
      "Epoch 3/10\n",
      "744/744 [==============================] - 5s 6ms/step - loss: 0.5452 - accuracy: 0.7312 - val_loss: 0.5483 - val_accuracy: 0.7361\n",
      "Epoch 4/10\n",
      "744/744 [==============================] - 5s 6ms/step - loss: 0.5455 - accuracy: 0.7325 - val_loss: 0.5496 - val_accuracy: 0.7315\n",
      "Epoch 5/10\n",
      "744/744 [==============================] - 5s 6ms/step - loss: 0.5446 - accuracy: 0.7312 - val_loss: 0.5497 - val_accuracy: 0.7330\n",
      "Epoch 6/10\n",
      "744/744 [==============================] - 5s 7ms/step - loss: 0.5444 - accuracy: 0.7316 - val_loss: 0.5495 - val_accuracy: 0.7283\n",
      "Epoch 7/10\n",
      "744/744 [==============================] - 5s 6ms/step - loss: 0.5440 - accuracy: 0.7327 - val_loss: 0.5562 - val_accuracy: 0.7126\n",
      "Epoch 8/10\n",
      "744/744 [==============================] - 5s 6ms/step - loss: 0.5444 - accuracy: 0.7317 - val_loss: 0.5528 - val_accuracy: 0.7321\n",
      "Epoch 9/10\n",
      "744/744 [==============================] - 5s 6ms/step - loss: 0.5438 - accuracy: 0.7318 - val_loss: 0.5523 - val_accuracy: 0.7268\n",
      "Epoch 10/10\n",
      "744/744 [==============================] - 5s 6ms/step - loss: 0.5439 - accuracy: 0.7323 - val_loss: 0.5523 - val_accuracy: 0.7245\n",
      "Epoch 1/10\n",
      "744/744 [==============================] - 5s 6ms/step - loss: 0.5449 - accuracy: 0.7327 - val_loss: 0.5321 - val_accuracy: 0.7391\n",
      "Epoch 2/10\n",
      "744/744 [==============================] - 5s 6ms/step - loss: 0.5450 - accuracy: 0.7312 - val_loss: 0.5329 - val_accuracy: 0.7389\n",
      "Epoch 3/10\n",
      "744/744 [==============================] - 5s 6ms/step - loss: 0.5439 - accuracy: 0.7336 - val_loss: 0.5350 - val_accuracy: 0.7364\n",
      "Epoch 4/10\n",
      "744/744 [==============================] - 5s 6ms/step - loss: 0.5446 - accuracy: 0.7329 - val_loss: 0.5343 - val_accuracy: 0.7374\n",
      "Epoch 5/10\n",
      "744/744 [==============================] - 5s 6ms/step - loss: 0.5437 - accuracy: 0.7335 - val_loss: 0.5342 - val_accuracy: 0.7406\n",
      "Epoch 6/10\n",
      "744/744 [==============================] - 5s 7ms/step - loss: 0.5434 - accuracy: 0.7338 - val_loss: 0.5331 - val_accuracy: 0.7396\n",
      "Epoch 7/10\n",
      "744/744 [==============================] - 5s 6ms/step - loss: 0.5434 - accuracy: 0.7339 - val_loss: 0.5400 - val_accuracy: 0.7313\n",
      "Epoch 8/10\n",
      "744/744 [==============================] - 5s 6ms/step - loss: 0.5441 - accuracy: 0.7326 - val_loss: 0.5372 - val_accuracy: 0.7310\n",
      "Epoch 9/10\n",
      "744/744 [==============================] - 5s 7ms/step - loss: 0.5424 - accuracy: 0.7339 - val_loss: 0.5390 - val_accuracy: 0.7330\n",
      "Epoch 10/10\n",
      "744/744 [==============================] - 5s 6ms/step - loss: 0.5423 - accuracy: 0.7340 - val_loss: 0.5357 - val_accuracy: 0.7362\n",
      "Epoch 1/10\n",
      "744/744 [==============================] - 5s 7ms/step - loss: 0.5414 - accuracy: 0.7348 - val_loss: 0.5428 - val_accuracy: 0.7262\n",
      "Epoch 2/10\n",
      "744/744 [==============================] - 5s 6ms/step - loss: 0.5418 - accuracy: 0.7333 - val_loss: 0.5466 - val_accuracy: 0.7214\n",
      "Epoch 3/10\n",
      "744/744 [==============================] - 5s 6ms/step - loss: 0.5415 - accuracy: 0.7340 - val_loss: 0.5495 - val_accuracy: 0.7228\n",
      "Epoch 4/10\n",
      "744/744 [==============================] - 5s 6ms/step - loss: 0.5409 - accuracy: 0.7350 - val_loss: 0.5449 - val_accuracy: 0.7264\n",
      "Epoch 5/10\n",
      "744/744 [==============================] - 5s 6ms/step - loss: 0.5399 - accuracy: 0.7358 - val_loss: 0.5497 - val_accuracy: 0.7239\n",
      "Epoch 6/10\n",
      "744/744 [==============================] - 5s 6ms/step - loss: 0.5405 - accuracy: 0.7348 - val_loss: 0.5430 - val_accuracy: 0.7224\n",
      "Epoch 7/10\n",
      "744/744 [==============================] - 5s 6ms/step - loss: 0.5396 - accuracy: 0.7352 - val_loss: 0.5459 - val_accuracy: 0.7228\n",
      "Epoch 8/10\n",
      "744/744 [==============================] - 5s 6ms/step - loss: 0.5397 - accuracy: 0.7354 - val_loss: 0.5467 - val_accuracy: 0.7226\n",
      "Epoch 9/10\n",
      "744/744 [==============================] - 5s 6ms/step - loss: 0.5400 - accuracy: 0.7360 - val_loss: 0.5479 - val_accuracy: 0.7239\n",
      "Epoch 10/10\n",
      "744/744 [==============================] - 5s 6ms/step - loss: 0.5398 - accuracy: 0.7372 - val_loss: 0.5442 - val_accuracy: 0.7267\n",
      "Epoch 1/10\n",
      "744/744 [==============================] - 5s 7ms/step - loss: 0.5381 - accuracy: 0.7358 - val_loss: 0.5454 - val_accuracy: 0.7334\n",
      "Epoch 2/10\n",
      "744/744 [==============================] - 5s 6ms/step - loss: 0.5378 - accuracy: 0.7371 - val_loss: 0.5462 - val_accuracy: 0.7339\n",
      "Epoch 3/10\n",
      "744/744 [==============================] - 5s 7ms/step - loss: 0.5381 - accuracy: 0.7363 - val_loss: 0.5522 - val_accuracy: 0.7258\n",
      "Epoch 4/10\n",
      "744/744 [==============================] - 5s 6ms/step - loss: 0.5371 - accuracy: 0.7364 - val_loss: 0.5466 - val_accuracy: 0.7343\n",
      "Epoch 5/10\n",
      "744/744 [==============================] - 5s 6ms/step - loss: 0.5371 - accuracy: 0.7361 - val_loss: 0.5520 - val_accuracy: 0.7269\n",
      "Epoch 6/10\n",
      "744/744 [==============================] - 5s 6ms/step - loss: 0.5365 - accuracy: 0.7382 - val_loss: 0.5483 - val_accuracy: 0.7315\n",
      "Epoch 7/10\n",
      "744/744 [==============================] - 5s 6ms/step - loss: 0.5358 - accuracy: 0.7374 - val_loss: 0.5511 - val_accuracy: 0.7283\n",
      "Epoch 8/10\n",
      "744/744 [==============================] - 5s 6ms/step - loss: 0.5361 - accuracy: 0.7377 - val_loss: 0.5560 - val_accuracy: 0.7281\n",
      "Epoch 9/10\n",
      "744/744 [==============================] - 5s 6ms/step - loss: 0.5350 - accuracy: 0.7372 - val_loss: 0.5646 - val_accuracy: 0.7326\n",
      "Epoch 10/10\n",
      "744/744 [==============================] - 5s 6ms/step - loss: 0.5352 - accuracy: 0.7395 - val_loss: 0.5533 - val_accuracy: 0.7303\n",
      "Epoch 1/10\n",
      "744/744 [==============================] - 5s 7ms/step - loss: 0.5372 - accuracy: 0.7361 - val_loss: 0.5357 - val_accuracy: 0.7398\n",
      "Epoch 2/10\n",
      "744/744 [==============================] - 5s 6ms/step - loss: 0.5367 - accuracy: 0.7362 - val_loss: 0.5356 - val_accuracy: 0.7432\n",
      "Epoch 3/10\n",
      "744/744 [==============================] - 5s 6ms/step - loss: 0.5352 - accuracy: 0.7380 - val_loss: 0.5364 - val_accuracy: 0.7373\n",
      "Epoch 4/10\n",
      "744/744 [==============================] - 5s 7ms/step - loss: 0.5365 - accuracy: 0.7367 - val_loss: 0.5404 - val_accuracy: 0.7381\n",
      "Epoch 5/10\n",
      "744/744 [==============================] - 5s 6ms/step - loss: 0.5359 - accuracy: 0.7374 - val_loss: 0.5389 - val_accuracy: 0.7392\n",
      "Epoch 6/10\n",
      "744/744 [==============================] - 5s 6ms/step - loss: 0.5346 - accuracy: 0.7380 - val_loss: 0.5438 - val_accuracy: 0.7335\n",
      "Epoch 7/10\n",
      "744/744 [==============================] - 5s 6ms/step - loss: 0.5352 - accuracy: 0.7365 - val_loss: 0.5402 - val_accuracy: 0.7370\n",
      "Epoch 8/10\n",
      "744/744 [==============================] - 5s 6ms/step - loss: 0.5345 - accuracy: 0.7380 - val_loss: 0.5429 - val_accuracy: 0.7375\n",
      "Epoch 9/10\n",
      "744/744 [==============================] - 5s 6ms/step - loss: 0.5345 - accuracy: 0.7381 - val_loss: 0.5414 - val_accuracy: 0.7356\n",
      "Epoch 10/10\n",
      "744/744 [==============================] - 5s 6ms/step - loss: 0.5341 - accuracy: 0.7384 - val_loss: 0.5405 - val_accuracy: 0.7373\n",
      "Epoch 1/10\n",
      "744/744 [==============================] - 5s 6ms/step - loss: 0.5359 - accuracy: 0.7376 - val_loss: 0.5247 - val_accuracy: 0.7464\n",
      "Epoch 2/10\n",
      "744/744 [==============================] - 5s 7ms/step - loss: 0.5346 - accuracy: 0.7377 - val_loss: 0.5341 - val_accuracy: 0.7426\n",
      "Epoch 3/10\n",
      "744/744 [==============================] - 5s 6ms/step - loss: 0.5357 - accuracy: 0.7373 - val_loss: 0.5245 - val_accuracy: 0.7466\n",
      "Epoch 4/10\n",
      "744/744 [==============================] - 5s 6ms/step - loss: 0.5338 - accuracy: 0.7390 - val_loss: 0.5236 - val_accuracy: 0.7489\n",
      "Epoch 5/10\n",
      "744/744 [==============================] - 5s 7ms/step - loss: 0.5346 - accuracy: 0.7384 - val_loss: 0.5291 - val_accuracy: 0.7451\n",
      "Epoch 6/10\n",
      "744/744 [==============================] - 5s 6ms/step - loss: 0.5333 - accuracy: 0.7393 - val_loss: 0.5255 - val_accuracy: 0.7451\n",
      "Epoch 7/10\n",
      "744/744 [==============================] - 5s 6ms/step - loss: 0.5348 - accuracy: 0.7381 - val_loss: 0.5275 - val_accuracy: 0.7438\n",
      "Epoch 8/10\n",
      "744/744 [==============================] - 5s 6ms/step - loss: 0.5322 - accuracy: 0.7389 - val_loss: 0.5254 - val_accuracy: 0.7439\n",
      "Epoch 9/10\n",
      "744/744 [==============================] - 5s 6ms/step - loss: 0.5329 - accuracy: 0.7389 - val_loss: 0.5282 - val_accuracy: 0.7428\n",
      "Epoch 10/10\n",
      "744/744 [==============================] - 5s 6ms/step - loss: 0.5322 - accuracy: 0.7397 - val_loss: 0.5303 - val_accuracy: 0.7434\n",
      "Epoch 1/10\n",
      "744/744 [==============================] - 5s 6ms/step - loss: 0.5305 - accuracy: 0.7412 - val_loss: 0.5390 - val_accuracy: 0.7311\n",
      "Epoch 2/10\n",
      "744/744 [==============================] - 5s 6ms/step - loss: 0.5298 - accuracy: 0.7404 - val_loss: 0.5432 - val_accuracy: 0.7307\n",
      "Epoch 3/10\n",
      "744/744 [==============================] - 5s 6ms/step - loss: 0.5298 - accuracy: 0.7412 - val_loss: 0.5414 - val_accuracy: 0.7266\n",
      "Epoch 4/10\n",
      "744/744 [==============================] - 5s 6ms/step - loss: 0.5292 - accuracy: 0.7412 - val_loss: 0.5450 - val_accuracy: 0.7218\n",
      "Epoch 5/10\n",
      "744/744 [==============================] - 5s 6ms/step - loss: 0.5288 - accuracy: 0.7418 - val_loss: 0.5440 - val_accuracy: 0.7258\n",
      "Epoch 6/10\n",
      "744/744 [==============================] - 5s 6ms/step - loss: 0.5289 - accuracy: 0.7423 - val_loss: 0.5451 - val_accuracy: 0.7281\n",
      "Epoch 7/10\n",
      "744/744 [==============================] - ETA: 0s - loss: 0.5289 - accuracy: 0.74 - 5s 6ms/step - loss: 0.5287 - accuracy: 0.7418 - val_loss: 0.5489 - val_accuracy: 0.7237\n",
      "Epoch 8/10\n",
      "744/744 [==============================] - 5s 6ms/step - loss: 0.5286 - accuracy: 0.7423 - val_loss: 0.5460 - val_accuracy: 0.7264\n",
      "Epoch 9/10\n",
      "744/744 [==============================] - 5s 6ms/step - loss: 0.5286 - accuracy: 0.7421 - val_loss: 0.5454 - val_accuracy: 0.7279\n",
      "Epoch 10/10\n",
      "744/744 [==============================] - 5s 6ms/step - loss: 0.5280 - accuracy: 0.7428 - val_loss: 0.5458 - val_accuracy: 0.7247\n",
      "Epoch 1/10\n",
      "744/744 [==============================] - 5s 7ms/step - loss: 0.5307 - accuracy: 0.7401 - val_loss: 0.5227 - val_accuracy: 0.7491\n",
      "Epoch 2/10\n",
      "744/744 [==============================] - 5s 7ms/step - loss: 0.5294 - accuracy: 0.7407 - val_loss: 0.5219 - val_accuracy: 0.7474\n",
      "Epoch 3/10\n",
      "744/744 [==============================] - 5s 6ms/step - loss: 0.5289 - accuracy: 0.7408 - val_loss: 0.5271 - val_accuracy: 0.7509\n",
      "Epoch 4/10\n",
      "744/744 [==============================] - 5s 6ms/step - loss: 0.5273 - accuracy: 0.7420 - val_loss: 0.5263 - val_accuracy: 0.7460\n",
      "Epoch 5/10\n",
      "744/744 [==============================] - 5s 6ms/step - loss: 0.5285 - accuracy: 0.7427 - val_loss: 0.5280 - val_accuracy: 0.7426\n",
      "Epoch 6/10\n",
      "744/744 [==============================] - 5s 6ms/step - loss: 0.5267 - accuracy: 0.7424 - val_loss: 0.5283 - val_accuracy: 0.7462\n",
      "Epoch 7/10\n",
      "744/744 [==============================] - 5s 6ms/step - loss: 0.5274 - accuracy: 0.7417 - val_loss: 0.5340 - val_accuracy: 0.7472\n",
      "Epoch 8/10\n",
      "744/744 [==============================] - 5s 6ms/step - loss: 0.5270 - accuracy: 0.7416 - val_loss: 0.5264 - val_accuracy: 0.7458\n",
      "Epoch 9/10\n",
      "744/744 [==============================] - 5s 6ms/step - loss: 0.5258 - accuracy: 0.7425 - val_loss: 0.5293 - val_accuracy: 0.7487\n",
      "Epoch 10/10\n",
      "744/744 [==============================] - 5s 6ms/step - loss: 0.5256 - accuracy: 0.7425 - val_loss: 0.5337 - val_accuracy: 0.7404\n"
     ]
    }
   ],
   "source": [
    "early_stop = EarlyStopping(monitor='val_loss', mode='min', verbose=1, patience=25, restore_best_weights=True)\n",
    "\n",
    "history = classifier.fit(\n",
    "    x_train.astype('float32'),\n",
    "    y_train.astype('float32'),\n",
    "    batch_size=128,\n",
    "    epochs=100,\n",
    "    validation_data=(x_val.astype('float32'), y_val.astype('float32')),\n",
    "    callbacks=[early_stop]\n",
    ")\n",
    "\n",
    "plot_hist(history.history)\n",
    "\n",
    "\"\"\"\n",
    "x_train = x_train\n",
    "y_train = y_train\n",
    "\n",
    "from sklearn.model_selection import KFold\n",
    "kf = KFold(n_splits=5, random_state=42, shuffle = True)\n",
    "for train_index, test_index in kf.split(x_train):\n",
    "    x_fold_train, x_fold_val = x_train.iloc[train_index], x_train.iloc[test_index]\n",
    "    y_fold_train, y_fold_val = y_train.iloc[train_index], y_train.iloc[test_index]\n",
    "    \n",
    "    history = classifier.fit(\n",
    "        x_fold_train.astype('float32'),\n",
    "        y_fold_train.astype('float32'),\n",
    "        batch_size=64,\n",
    "        epochs=10,\n",
    "        validation_data=(x_fold_val.astype('float32'), y_fold_val.astype('float32'))\n",
    "    )\n",
    "    \n",
    "    plot_hist(history.history)\n",
    "    \n",
    "\"\"\""
   ]
  },
  {
   "cell_type": "markdown",
   "metadata": {},
   "source": [
    "## Evaluation"
   ]
  },
  {
   "cell_type": "markdown",
   "metadata": {},
   "source": [
    "### Predict the test set"
   ]
  },
  {
   "cell_type": "code",
   "execution_count": 119,
   "metadata": {
    "scrolled": true
   },
   "outputs": [],
   "source": [
    "y_prob = classifier.predict(x_test.astype('float32'))\n",
    "y_pred = np.round(y_prob)"
   ]
  },
  {
   "cell_type": "markdown",
   "metadata": {},
   "source": [
    "### Apply the evaluation metrics"
   ]
  },
  {
   "cell_type": "code",
   "execution_count": 120,
   "metadata": {
    "scrolled": false
   },
   "outputs": [
    {
     "name": "stdout",
     "output_type": "stream",
     "text": [
      "Accuracy Score:\n",
      "0.7374470659407139\n",
      "\n",
      "Precision Score:\n",
      "0.7642752562225475\n",
      "\n",
      "Recall Score:\n",
      "0.6566037735849056\n",
      "\n",
      "F1-Score:\n",
      "0.706359945872801\n",
      "\n",
      "Cost:\n",
      "1414\n",
      "\n"
     ]
    },
    {
     "data": {
      "image/png": "[encoded data removed]",
      "text/plain": [
       "<Figure size 432x720 with 2 Axes>"
      ]
     },
     "metadata": {
      "needs_background": "light"
     },
     "output_type": "display_data"
    },
    {
     "data": {
      "image/png": "[encoded data removed]",
      "text/plain": [
       "<Figure size 432x720 with 2 Axes>"
      ]
     },
     "metadata": {
      "needs_background": "light"
     },
     "output_type": "display_data"
    },
    {
     "data": {
      "image/png": "[encoded data removed]",
      "text/plain": [
       "<Figure size 432x720 with 1 Axes>"
      ]
     },
     "metadata": {
      "needs_background": "light"
     },
     "output_type": "display_data"
    },
    {
     "name": "stdout",
     "output_type": "stream",
     "text": [
      "\n",
      "ROC Score:\n",
      "0.7901066177009574\n"
     ]
    }
   ],
   "source": [
    "show_evaluation(y_test, y_pred, y_prob)"
   ]
  },
  {
   "cell_type": "code",
   "execution_count": 121,
   "metadata": {},
   "outputs": [],
   "source": [
    "# Save predictions\n",
    "method_name = 'Neural Network'\n",
    "predicted_probabilities = y_prob.flatten()\n",
    "savePredictedProbabilities(method_name, y_test, predicted_probabilities)"
   ]
  },
  {
   "cell_type": "code",
   "execution_count": null,
   "metadata": {},
   "outputs": [],
   "source": []
  }
 ],
 "metadata": {
  "kernelspec": {
   "display_name": "Python 3",
   "language": "python",
   "name": "python3"
  },
  "language_info": {
   "codemirror_mode": {
    "name": "ipython",
    "version": 3
   },
   "file_extension": ".py",
   "mimetype": "text/x-python",
   "name": "python",
   "nbconvert_exporter": "python",
   "pygments_lexer": "ipython3",
   "version": "3.8.3"
  }
 },
 "nbformat": 4,
 "nbformat_minor": 2
}
